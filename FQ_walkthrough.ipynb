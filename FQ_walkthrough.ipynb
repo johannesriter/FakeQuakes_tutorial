{
 "cells": [
  {
   "cell_type": "markdown",
   "metadata": {},
   "source": [
    "<hr style=\"border:2px solid gray\"> </hr>"
   ]
  },
  {
   "cell_type": "markdown",
   "metadata": {},
   "source": [
    "# <center>FakeQuakes Tutorial</center>\n",
    "## <center>Generates synthetic rupture models and waveforms </center>\n",
    "### <center>Tara Nye</center>\n",
    "### <center>PhD Candidate | University of Oregon</center>"
   ]
  },
  {
   "cell_type": "markdown",
   "metadata": {},
   "source": [
    "<hr style=\"border:2px solid gray\"> </hr>"
   ]
  },
  {
   "cell_type": "markdown",
   "metadata": {},
   "source": [
    "FakeQuakes is a set of semistochastic foward modeling codes from the github repository [MudPy](https://github.com/dmelgarm/MudPy).  FakeQuakes was created by __Dr. Diego Melgar__ (professor at the Unviersity of Oregon), and the components are outlined in the paper [__Kinematic rupture scenarios and synthetic displacement data: An example application to the Cascadia subduction zone__ (Melgar et al., 2016)](http://doi.wiley.com/10.1002/2016JB013314).  \n",
    "\n",
    "This set of codes generates synthetic rupture models and can generate low frequency displacement waveforms and broadband acceleration waveforms.\n",
    "\n",
    "For more information on how to use FakeQuakes, you can refer to this [wiki page](https://github.com/taranye96/tsuquakes/wiki/FakeQuakes-Script) on my github account.  This page walks you through how to set up the parameter file (__.fq.py__) listed in the [tsuquakes](https://github.com/taranye96/tsuquakes) respository and how to run the different steps in FakeQuakes.  If you have any other questions, feel free to contact me or Diego Melgar.\n",
    "\n",
    "Tara Nye: tnye@uoregon.edu\n",
    "<br>Diego Melgar: dmelgarm@uoregon.edu"
   ]
  },
  {
   "cell_type": "markdown",
   "metadata": {},
   "source": [
    "<img src=\"./figures/rupture_models.png\"/>\n",
    "\n",
    "<br>__Figure 1.__ Mean slip model for the 2010 M7.8 Mentawai event on the left (modified from Yue et al., 2014), and two example synthetic rupture models patterned after this event in the center and on the right."
   ]
  },
  {
   "cell_type": "markdown",
   "metadata": {},
   "source": [
    "<hr style=\"border:1px solid gray\"> </hr>"
   ]
  },
  {
   "cell_type": "markdown",
   "metadata": {},
   "source": [
    "# <center>Table of Contents</center>\n",
    "## 1. <a href=#installation>FakeQuakes Installation</a>\n",
    "### &emsp;&emsp;1.1 <a href=#python>Setup Python Environment</a>\n",
    "### &emsp;&emsp;1.1 <a href=#mudpy>Install MudPy</a>\n",
    "## 2. <a href=#setup>Project Setup</a>\n",
    "### &emsp;&emsp;2.1 <a href=#directories>Setup Directories</a>\n",
    "### &emsp;&emsp;2.2 <a href=#parameters>Define Parameters</a>\n",
    "## 3. <a href=#generate_ruptures>Generate Rupture Models</a>\n",
    "## 4. <a href=#LF>Generate Low Frequency Displacement Waveforms</a>\n",
    "###  &emsp;&emsp;4.1 <a href=#GFs>Compute Green's Functions</a>\n",
    "### &emsp;&emsp;4.2  <a href=#lf_waveforms>Make Low Frequency Waveforms </a>\n",
    "## 5. <a href=#BB>Generate Broadband Acceleration Waveforms</a>\n",
    "### &emsp;&emsp;5.1 <a href=#HF>Make High Frequency Waveforms</a>\n",
    "### &emsp;&emsp;5.2 <a href=#match_filt>Combine Waveforms</a>\n",
    "## 5. <a href=#notes>Final Notes</a>\n",
    "## 6. <a href=#references>References</a>"
   ]
  },
  {
   "cell_type": "markdown",
   "metadata": {},
   "source": [
    "<a id='installation'></a>\n",
    "<hr style=\"border:1px solid gray\"> </hr>"
   ]
  },
  {
   "cell_type": "markdown",
   "metadata": {},
   "source": [
    "# <center>FakeQuakes Installation</center>"
   ]
  },
  {
   "cell_type": "markdown",
   "metadata": {},
   "source": [
    "<a id='python'></a>\n",
    "***\n",
    "## <center>Setup Python Environment</center>\n",
    "### MudPy requires the following dependencies:\n",
    "- __ObsPy__ **`$ conda install -c conda-forge obspy`**\n",
    "- __Pyproj__ **`$ conda install -c conda-forge pyproj`**\n",
    "- __UTM__ **`$ conda install -c conda-forge utm`**\n",
    "- __mpi4py__ **`$ conda install -c anaconda mpi4py`**\n",
    "- __GCC and GFortgran__\n",
    "    - If you are using a Mac, you can just install __Xcode Developer Tools__ (Apple app store)\n",
    "    - If you are on a Linux machine:\n",
    "        **`$ sudo apt install build-essential`**\n",
    "        **`$ sudo apt-get install gfortran`**"
   ]
  },
  {
   "cell_type": "markdown",
   "metadata": {},
   "source": [
    "<a id='mudpy'></a>\n",
    "***\n",
    "## <center>Install MudPy</center>\n",
    "### 1. Clone MudPy repository \n",
    "**`$ git clone https://github.com/dmelgarm/MudPy.git`**\n",
    "### 2. Build the fk Green's function code\n",
    "#### - Inside *MudPy/src/fk/* run:\n",
    "**`$ make clean`**\n",
    "\n",
    "**`$ make all`**\n",
    "### 3. Set Paths (.bash_profile or .bashrc script)\n",
    "### - Add the Mudpy src/fk folder to your PATH variable \n",
    "#### i.e. in my .bash_profile script I have:\n",
    "**`export PATH=/Users/tnye/code/MudPy/src/fk:$PATH`**\n",
    "### - Add the Mudpy src/python folder to your PYTHONPATH \n",
    "#### i.e. in my .bash_profile script I have:\n",
    "**`export PYTHONPATH=/Users/tnye/code/MudPy/src/python:$PYTHONPATH`**\n",
    "### - Define the MUD environment variable\n",
    "#### i.e. in my .bash_profile script I have:\n",
    "**`export MUD=/Users/tnye/code/MudPy`**\n",
    "\n",
    "### 4. Make sure everything worked\n",
    "#### If you type these into the terminal, a help screen should appear:\n",
    "\n",
    "**`$ fk.pl`**\n",
    "\n",
    "**`$ syn`**"
   ]
  },
  {
   "cell_type": "markdown",
   "metadata": {},
   "source": [
    "<a id='setup'></a>\n",
    "<hr style=\"border:1px solid gray\"> </hr>"
   ]
  },
  {
   "cell_type": "markdown",
   "metadata": {},
   "source": [
    "# <center>Project Setup</center>"
   ]
  },
  {
   "cell_type": "markdown",
   "metadata": {},
   "source": [
    "<a id='directories'></a>\n",
    "***\n",
    "## <center>Setup Directories</center>\n",
    "### In the FakeQuakes_tutorial folder, there is a files folder with these types of files:\n",
    "- __.gflist__ (list of the stations and their coordinates)\n",
    "    - sm.gflist contains all of the strong motion stations\n",
    "    - sm_short.gflist contains 2 of the strong motion stations to make computation time faster for the demo\n",
    "- __.mod__ (velocity profile model for the region where the synthetic scenarios are being generated)\n",
    "- __.fault__ (fault model with subfault dimensions that will be used to generate the rupture scenarios)\n",
    "    - mentawai_fine.fault is a finely-discretized fault model with ~2000 subfaults\n",
    "    - mentawai_coarse.fault is a coarsely-discretized fault model with ~70 subfaults to make computation time faster for the demo\n"
   ]
  },
  {
   "cell_type": "markdown",
   "metadata": {},
   "source": [
    "### __.gflist__"
   ]
  },
  {
   "cell_type": "code",
   "execution_count": 1,
   "metadata": {},
   "outputs": [
    {
     "name": "stdout",
     "output_type": "stream",
     "text": [
      "#station\tlon  lat\t\"static,disp,vel,tsun,strain\" kappa(s)\r\n",
      "CGJI\t105.693\t-6.6135\t0 1 0 0 0 0.0619150964056539\r\n",
      "CNJI\t107.13\t-7.309 \t0 1 0 0 0 0.04702075286783348\r\n",
      "KASI\t104.496\t-5.5236\t0 1 0 0 0 0.02987267374160068\r\n",
      "KLI\t104.8705\t-4.8363\t0 1 0 0 0 0.10622048227159356\r\n",
      "LASI  \t97.9704 \t4.4573\t0 1 0 0 0 0.08566300005768959\r\n",
      "LHSI\t103.5233\t-3.8266\t0 1 0 0 0 0.059747271448665124\r\n",
      "LWLI\t104.0589\t-5.0175\t0 1 0 0 0 0.07960194162399592\r\n",
      "MDSI\t104.1782\t-4.486\t0 1 0 0 0 0.06516607288493596\r\n",
      "MKBI\t101.2396\t-2.4474\t0 1 0 0 0 0.06804841415138695\r\n"
     ]
    }
   ],
   "source": [
    "!head ./files/sm.gflist"
   ]
  },
  {
   "cell_type": "markdown",
   "metadata": {},
   "source": [
    "### __.mod__ \n",
    "(Obtained from Yue et al., 2014)"
   ]
  },
  {
   "cell_type": "code",
   "execution_count": 2,
   "metadata": {},
   "outputs": [
    {
     "name": "stdout",
     "output_type": "stream",
     "text": [
      "1\t1.7\t2.5\t1.5\t300\t600\r",
      "\r\n",
      "1\t1.9\t3.1\t1.7\t300\t600\r",
      "\r\n",
      "1\t2.31\t4\t2\t300\t600\r",
      "\r\n",
      "2\t2.9\t5\t2.3\t300\t600\r",
      "\r\n",
      "5\t3.46\t6\t2.6\t300\t600\r",
      "\r\n",
      "3\t3.5\t6.1\t2.7\t300\t600\r",
      "\r\n",
      "3\t3.87\t6.7\t2.8\t300\t600\r",
      "\r\n",
      "0\t4.5\t7.7\t3.3\t300\t600\r",
      "\r\n"
     ]
    }
   ],
   "source": [
    "!head ./files/mentawai.mod\n",
    "# Thickness of layer(km), Vs(km/s), Vp(km/s), Density(g/cm^3), QS, QP\n",
    "# Last area has to be thickness of 0 (infinite below this)"
   ]
  },
  {
   "cell_type": "markdown",
   "metadata": {},
   "source": [
    "### __.fault__ \n",
    "(Modified from Yue et al., 2014)"
   ]
  },
  {
   "cell_type": "code",
   "execution_count": 2,
   "metadata": {},
   "outputs": [
    {
     "name": "stdout",
     "output_type": "stream",
     "text": [
      "# No,lon,lat,z(km),strike,dip,rise,dura,ss_len(m),ds_len(m)\r",
      "\r\n",
      "1\t99.933\t-4.115\t3.988\t324\t7.5\t0\t0\t14250\t1.50E+04\r",
      "\r\n",
      "2\t100.041\t-4.037\t5.946\t324\t7.5\t0\t0\t14250\t1.50E+04\r",
      "\r\n",
      "3\t100.15\t-3.958\t7.904\t324\t7.5\t0\t0\t14250\t1.50E+04\r",
      "\r\n",
      "4\t100.258\t-3.88\t9.862\t324\t7.5\t0\t0\t14250\t1.50E+04\r",
      "\r\n",
      "5\t100.366\t-3.801\t11.82\t324\t7.5\t0\t0\t14250\t1.50E+04\r",
      "\r\n",
      "6\t100.475\t-3.722\t13.778\t324\t7.5\t0\t0\t14250\t1.50E+04\r",
      "\r\n",
      "7\t99.857\t-4.012\t3.988\t324\t7.5\t0\t0\t14250\t1.50E+04\r",
      "\r\n",
      "8\t99.966\t-3.933\t5.946\t324\t7.5\t0\t0\t14250\t1.50E+04\r",
      "\r\n",
      "9\t100.074\t-3.855\t7.904\t324\t7.5\t0\t0\t14250\t1.50E+04\r",
      "\r\n"
     ]
    }
   ],
   "source": [
    "!head ./files/mentawai_coarse.fault\n",
    "# Subfault, lon, lat, depth(km), strike, dip, type(doesn't do anything), risetime(doesn't do anything), \n",
    "# Subfault length(m), subfault width(m)\n",
    "\n",
    "# The columns that don't do anything are left over from slip inversion file setup, but need to be included \n",
    "# in the structure of the file. "
   ]
  },
  {
   "cell_type": "markdown",
   "metadata": {},
   "source": [
    "### We need to initialize the project folder and put these files into their respective folders"
   ]
  },
  {
   "cell_type": "code",
   "execution_count": 3,
   "metadata": {},
   "outputs": [],
   "source": [
    "# Standard Library Imports\n",
    "import os\n",
    "import numpy as np\n",
    "from obspy.core import UTCDateTime\n",
    "from obspy import read\n",
    "import time\n",
    "\n",
    "# MudPy Imports\n",
    "from mudpy import fakequakes,runslip,forward,view"
   ]
  },
  {
   "cell_type": "code",
   "execution_count": 4,
   "metadata": {},
   "outputs": [],
   "source": [
    "# Define variables for project location \n",
    "home = os.getcwd() + '/' # This sets the current working directory as the home path\n",
    "project_name='test' # Name of project folder that will be set up in home directory "
   ]
  },
  {
   "cell_type": "markdown",
   "metadata": {},
   "source": [
    "If you don't have the dependencies installed, or you want to just use the data I created, set __project_name=demo__"
   ]
  },
  {
   "cell_type": "code",
   "execution_count": 5,
   "metadata": {},
   "outputs": [],
   "source": [
    "# Initalize project folders\n",
    "if project_name != 'demo':\n",
    "    fakequakes.init(home,project_name)"
   ]
  },
  {
   "cell_type": "markdown",
   "metadata": {},
   "source": [
    "### Copy the files into these folders \n",
    "- __.mod__ should be placed in __*/home/project_name/structure/*__ \n",
    "- __.fault__ should be placed in __*/home/project_name/data/model_info/*__\n",
    "- __.gflist__ file should be placed in __*/home/project_folder/data/station_info/*__"
   ]
  },
  {
   "cell_type": "code",
   "execution_count": null,
   "metadata": {},
   "outputs": [],
   "source": [
    "!cp ./files/mentawai.mod $home/$project_name/structure\n",
    "!cp ./files/mentawai_coarse.fault $home/$project_name/data/model_info\n",
    "!cp ./files/sm_short.gflist $home/$project_name/data/station_info"
   ]
  },
  {
   "cell_type": "markdown",
   "metadata": {},
   "source": [
    "<a id='parameters'></a>"
   ]
  },
  {
   "cell_type": "markdown",
   "metadata": {},
   "source": [
    "<a id='parameters'></a>\n",
    "***\n",
    "## <center>Define Parameters</center>\n",
    "### Rupture parameters"
   ]
  },
  {
   "cell_type": "code",
   "execution_count": null,
   "metadata": {},
   "outputs": [],
   "source": [
    "# Runtime parameters \n",
    "ncpus=2                                        # how many CPUS you want to use for parallelization (needs ot be at least 2)\n",
    "Nrealizations=2                                # Number of fake ruptures to generate per magnitude bin\n",
    "hot_start=0                                    # If code quits in the middle of running, it will pick back up at this index\n",
    "\n",
    "# File parameters\n",
    "model_name='mentawai.mod'                      # Velocity model file name\n",
    "fault_name='mentawai_coarse.fault'             # Fault model name\n",
    "mean_slip_name=None                            # Set to path of .rupt file if patterning synthetic runs after a mean rupture model\n",
    "run_name='mentawai'                            # Base name of each synthetic run (i.e. mentawai.000000, mentawai.000001, etc...)\n",
    "rupture_list='ruptures.list'                   # Name of list of ruptures that are used to generate waveforms.  'ruptures.list' uses the full list of ruptures FakeQuakes creates. If you create file with a sublist of ruptures, use that file name.\n",
    "distances_name='mentawai'                      # Name of matrix with estimated distances between subfaults i and j for every subfault pair\n",
    "load_distances=0                               # This should be zero the first time you run FakeQuakes with your fault model."
   ]
  },
  {
   "cell_type": "code",
   "execution_count": null,
   "metadata": {},
   "outputs": [],
   "source": [
    "# Source parameters\n",
    "UTM_zone='47M'                                 # UTM_zone for rupture region \n",
    "time_epi=UTCDateTime('2010-10-25T14:42:12Z')   # Origin time of event (can set to any time, as long as it's not in the future)\n",
    "target_Mw=np.array([8.5])                      # Desired magnitude(s), can either be one value or an array\n",
    "hypocenter=None                                # Coordinates of subfault closest to desired hypocenter, or set to None for random\n",
    "force_hypocenter=False                         # Set to True if hypocenter specified\n",
    "rake=90                                        # Average rake for subfaults\n",
    "scaling_law='T'                                # Type of rupture: T for thrust, S for strike-slip, N for normal\n",
    "force_magnitude=False                          # Set to True if you want the rupture magnitude to equal the exact target magnitude\n",
    "force_area=False                               # Set to True if you want the ruptures to fill the whole fault model"
   ]
  },
  {
   "cell_type": "code",
   "execution_count": null,
   "metadata": {},
   "outputs": [],
   "source": [
    "# Correlation function parameters\n",
    "hurst=0.4                                      # Hurst exponent form Melgar and Hayes 2019\n",
    "Ldip='auto'                                    # Correlation length scaling: 'auto' uses Melgar and Hayes 2019, 'MB2002' uses Mai and Beroza 2002\n",
    "Lstrike='auto'                                 # Same as above\n",
    "slip_standard_deviation=0.9                    # Standard deviation for slip statistics: Keep this at 0.9\n",
    "lognormal=True                                 # Keep this as True to solve the problem of some negative slip subfaults that are produced"
   ]
  },
  {
   "cell_type": "code",
   "execution_count": null,
   "metadata": {},
   "outputs": [],
   "source": [
    "# Rupture propagation parameters\n",
    "rise_time_depths=[10,15]                       # Transition depths for rise time scaling (if slip shallower than first index, rise times are twice as long as calculated)\n",
    "max_slip=40                                    # Maximum sip (m) allowed in the model\n",
    "max_slip_rule=False                            # If true, uses a magntidude-depence for max slip\n",
    "shear_wave_fraction=0.25                       # 0.8 is a standard value (Mai and Beroza 2002)\n",
    "source_time_function='dreger'                  # options are 'triangle' or 'cosine' or 'dreger'\n",
    "stf_falloff_rate=4                             # Only affects Dreger STF, 4-8 are reasonable values\n",
    "num_modes=72                                   # Number of modes in K-L expansion\n",
    "slab_name=None                                 # Slab 2.0 Ascii file for 3D geometry, set to None for simple 2D geometry\n",
    "mesh_name=None                                 # GMSH output file for 3D geometry, set to None for simple 2D geometry"
   ]
  },
  {
   "cell_type": "markdown",
   "metadata": {},
   "source": [
    "### Waveform Parameters"
   ]
  },
  {
   "cell_type": "code",
   "execution_count": null,
   "metadata": {},
   "outputs": [],
   "source": [
    "# Green's Functions parameters\n",
    "GF_list='sm_short.gflist'                      # Stations file name\n",
    "G_name='sm'                                    # Basename you want for the Green's functions matrices\n",
    "make_GFs=1                                     # This should be 1 to run Green's functions\n",
    "make_synthetics=1                              # This should be 1 to make the synthetics\n",
    "G_from_file=0                                  # This should be zero the first time you run FakeQuakes with your fault model and stations.\n",
    "\n",
    "# fk parameters\n",
    "# used to solve wave equation in frequency domain \n",
    "dk=0.1 ; pmin=0 ; pmax=1 ; kmax=20             # Should be set to 0.1, 0, 1, 20\n",
    "custom_stf=None                                # Assumes specified source time function above if set to None"
   ]
  },
  {
   "cell_type": "code",
   "execution_count": null,
   "metadata": {},
   "outputs": [],
   "source": [
    "# Low frequency waveform parameters\n",
    "dt=0.5                                         # Sampling interval of LF data \n",
    "NFFT=512                                       # Number of samples in LF waveforms (should be in powers of 2)\n",
    "# dt*NFFT = length of low-frequency dispalcement record\n",
    "# want this value to be close to duration (length of high-frequency record)\n",
    "\n",
    "# High frequency waveform parameters\n",
    "stress_parameter=50                            # Stress drop measured in bars (standard value is 50)\n",
    "moho_depth_in_km=30.0                          # Average depth to Moho in this region \n",
    "Pwave=True                                     # Calculates P-waves as well as S-waves if set to True, else just S-Waves\n",
    "kappa=None                                     # Station kappa values: Options are GF_list for station-specific kappa, a singular value for all stations, or the default 0.04s for every station if set to None\n",
    "hf_dt=0.01                                     # Sampling interval of HF data\n",
    "duration=250                                   # Duration (in seconds) of HF record\n",
    "\n",
    "high_stress_depth=30                           # Doesn't do anything, but still shows up as a parameter. Set to whatever you want. \n",
    "\n",
    "# Match filter parameters\n",
    "zero_phase=True                                # If True, filters waveforms twice to remove phase, else filters once\n",
    "order=4                                        # Number of poles for filters\n",
    "fcorner=0.998                                  # Corner frequency at which to filter waveforms (needs to be between 0 and the Nyquist frequency)"
   ]
  },
  {
   "cell_type": "markdown",
   "metadata": {},
   "source": [
    "### Whew...we're finally done setting up the parameters"
   ]
  },
  {
   "cell_type": "markdown",
   "metadata": {},
   "source": [
    "<a id='generate_ruptures'></a>"
   ]
  },
  {
   "cell_type": "markdown",
   "metadata": {},
   "source": [
    "<a id='generate_ruptures'></a>\n",
    "<hr style=\"border:1px solid gray\"> </hr>"
   ]
  },
  {
   "cell_type": "markdown",
   "metadata": {},
   "source": [
    "# <center>Generate Rupture Models</center>\n",
    "This step uses the __fakequakes.generate_ruptures__ function to generate the different rupture models.  The outputs are .rupt files which are the rupture models with information on each subfault, and .log files which give details on the rupture, such as magntidue, hypocenter, origin time, etc...  Most of this is taken from Mai and Beroza (2002).  \n",
    "<br>There are two main types of rupture models you can make:\n",
    "- a rupture model patterned after a real or average rupture model.\n",
    "- a rupture model with completely random slip patterns\n",
    "\n",
    "<br> For this tutorial, we will be making random rupture models for the Mentawai region. "
   ]
  },
  {
   "cell_type": "code",
   "execution_count": null,
   "metadata": {},
   "outputs": [],
   "source": [
    "if project_name != 'demo':\n",
    "    start = time.time()\n",
    "    #Generate rupture models\n",
    "    fakequakes.generate_ruptures(home,project_name,run_name,fault_name,slab_name,mesh_name,load_distances,distances_name,UTM_zone,target_Mw,model_name,\n",
    "            hurst,Ldip,Lstrike,num_modes,Nrealizations,rake,buffer_factor,\n",
    "            rise_time_depths,time_epi,max_slip,source_time_function,lognormal,\n",
    "            slip_standard_deviation,scaling_law,ncpus,mean_slip_name=mean_slip_name,\n",
    "            force_magnitude=force_magnitude,force_area=force_area,hypocenter=hypocenter,\n",
    "            force_hypocenter=force_hypocenter,shear_wave_fraction=shear_wave_fraction,\n",
    "            max_slip_rule=max_slip_rule)   \n",
    "    end = time.time()\n",
    "    time_elaps = end - start\n",
    "    if time_elaps < 60:\n",
    "        print(f'Duration: {round(time_elaps)} seconds')\n",
    "    else:\n",
    "        print(f'Duration: {round(time_elaps/60)} minutes')"
   ]
  },
  {
   "cell_type": "markdown",
   "metadata": {},
   "source": [
    "### Rupture Dimensions\n",
    "<img src=\"./figures/fault.png\" style=\"width:400px;height:182px\"/>\n",
    "The dimensions of the fault rupture are determined by the target magnitude and rupture dimension scaling laws $\\eqref{eq:scaling law length}$$\\eqref{eq:scaling law width}$ (Blaser et al., 2010).\n",
    "\n",
    "\\begin{equation*}\n",
    "log_{10}L = -2.37 + 0.57M_{w}\n",
    "\\label{eq:scaling law length} \\tag{1}\n",
    "\\end{equation*}\n",
    "\n",
    "\\begin{equation*}\n",
    "log_{10}W = -1.86 + 0.46M_{w}\n",
    "\\label{eq:scaling law width} \\tag{2}\n",
    "\\end{equation*}\n",
    "\n",
    "To add some variability in the rupture dimensions of events of the same size, FakeQuakes uses a stochastic approach to the scaling laws $\\eqref{eq:stochastic scaling law}$.\n",
    "\n",
    "\\begin{equation*}\n",
    "log_{10}L \\sim N(a_{1} + b_{1}M_{w}, s^{2}_{xy})\n",
    "\\label{eq:stochastic scaling law} \\tag{3}\n",
    "\\end{equation*}\n",
    "\n",
    "### Slip Statistics\n",
    "<img src=\"./figures/slip.png\" style=\"width:400px;height:182px\"/>\n",
    "\n",
    "Unless a hypocenter is specified, a random subfault is chosen at the hypocenter.  \n",
    "<br>The slip on each subfault is normally distributed, and the vector __s__ contains all of the subfault slips $\\eqref{eq:slip vector}$.\n",
    "\n",
    "\\begin{equation*}\n",
    "s \\sim N(\\mu, \\hat{C})\n",
    "\\label{eq:slip vector} \\tag{4}\n",
    "\\end{equation*}\n",
    "\n",
    "<img src=\"./figures/slip_pdf.png\" style=\"width:440px;height:350px\"/>\n",
    "\n",
    "To produce a synthetic event with the desired magnitude, the mean vector, $\\mu$, has uniform slip and enough scalar moment to match the target magnitude we specified $\\eqref{eq:moment}$.\n",
    "\n",
    "\\begin{equation*}\n",
    "M_{0} = \\rho LW\\mu\n",
    "\\label{eq:moment} \\tag{5}\n",
    "\\end{equation*}\n",
    "\n",
    "$\\hat{C}$ is the covariance matrix of the slip distribution and is a function of the standard deviation of slip at each subfault and the correlation between each ith and jth subfault pair.  FakeQuakes uses the __Von Karman correlation function__ $\\eqref{eq:correlation function}$ because it represents fault slip patterns well. \n",
    "\n",
    "\\begin{equation*}\n",
    "C_{ij}(r_{ij}) = \\frac{G_H(r_{ij})}{G_0(r_{ij})}\n",
    "\\label{eq:correlation function} \\tag{6}\n",
    "\\end{equation*}\n",
    "\n",
    "\\begin{equation*}\n",
    "G_{H} = r^{H}_{ij}K_{H}(r_{ij})\n",
    "\\label{eq:GH} \\tag{7}\n",
    "\\end{equation*}\n",
    "\n",
    "- r$_{ij}$ is a length measure between subfaults i and j<br>(__Note__: This is not the actual distance.  It is a value dependent on the along strike and along dip distances between subfaults)\n",
    "- __H__ is the hurst exponent that we defined in the parameters\n",
    "- K$_{H}$ is the modified Bessel function of the second kind\n",
    "    - solution to Bessel differential equation which is used when solving the 3D wave equation\n",
    "\n",
    "If $\\lambda$$_{k}$ and v$_{k}$ are the eigenvalues and eigen vectors of the correlation function C$_{ij}$, then the slip vector, s, can be expressed by the __Karhunen Loeve (K-L) expansion__ $\\eqref{eq:K-L expansion}$.  \n",
    "\n",
    "\\begin{equation*}\n",
    "s = \\mu + \\sum\\limits_{k=1}^N z_{k}\\sqrt{\\lambda_{k}v_{k}}\n",
    "\\label{eq:K-L expansion} \\tag{8}\n",
    "\\end{equation*}\n",
    "\n",
    "- N is the number of modes specified, and it can be any number up to the number of subaults in your mode.  The more modes you have, the better you can model the high frequency stuff, but it also takes longer to compute. \n",
    "- z$_{k}$ are normally distrubuted random numbers between 0-1 that are used as weights for each eigenmode\n",
    "\n",
    "\n",
    "### Kinematics \n",
    "<img src=\"./figures/rupture.gif\" style=\"width:400px;height:182px\"/>\n",
    "Now that we have the static slip distribution, we need to determine the kinematics of the rupture so that we can generate the waveforms.  \n",
    "\n",
    "The rupture onset time of each subfault is determined __(2-stage)__\n",
    "1. Background rupture distribution $\\eqref{eq:Vrupt}$ is determined using the shear-wave speed from the velocity model (V$_{s}$) and the shear-wave fraction parameter we set (SF)\n",
    "\\begin{equation*}\n",
    "V_{r} = (SF)(V_{s})\n",
    "\\label{eq:Vrupt} \\tag{9}\n",
    "\\end{equation*}\n",
    "    - There is a reduction in rupture speed at depths <10 km.  This is to account for the low shear-wave velocity at shallow depths in the accretionary wedge.\n",
    "    - Subfault onset times from this background distribution are perturbed so that there's faster propagation where slip is large (Graves and Pitarka, 2010).\n",
    "    - Risetime of each subfault (duration of slip) scaled by __√__(total slip on subfault) so that larger slips have longer risetimes\n",
    "2. A slip rate function is applied to determine how the slip evolved over time. "
   ]
  },
  {
   "cell_type": "markdown",
   "metadata": {},
   "source": [
    "### View .log file"
   ]
  },
  {
   "cell_type": "code",
   "execution_count": 6,
   "metadata": {},
   "outputs": [
    {
     "data": {
      "text/plain": [
       "['Scenario calculated at 2021-03-12 23:51:15 GMT',\n",
       " 'Project name: demo',\n",
       " 'Run name: mentawai',\n",
       " 'Run number: 000000',\n",
       " 'Velocity model: mentawai.mod',\n",
       " 'No. of KL modes: 72',\n",
       " 'Hurst exponent: 0.4',\n",
       " 'Corr. length used Lstrike: 62.90 km',\n",
       " 'Corr. length used Ldip: 27.20 km',\n",
       " 'Slip std. dev.: 0.900 km',\n",
       " 'Maximum length Lmax: 156.38 km',\n",
       " 'Maximum width Wmax: 60.00 km',\n",
       " 'Effective length Leff: 132.93 km',\n",
       " 'Effective width Weff: 51.00 km',\n",
       " 'Target magnitude: Mw 8.5000',\n",
       " 'Actual magnitude: Mw 8.3432',\n",
       " 'Hypocenter (lon,lat,z[km]): (99.772000,-3.440000,7.90)',\n",
       " 'Hypocenter time: 2010-10-25T14:42:12.000000Z',\n",
       " 'Centroid (lon,lat,z[km]): (99.789327,-3.201594,10.15)',\n",
       " 'Source time function type: dreger']"
      ]
     },
     "execution_count": 6,
     "metadata": {},
     "output_type": "execute_result"
    }
   ],
   "source": [
    "logpath=os.getcwd() +'/' + 'demo' + '/output/ruptures/mentawai.000000.log'\n",
    "var=!cat $logpath\n",
    "var"
   ]
  },
  {
   "cell_type": "markdown",
   "metadata": {},
   "source": [
    "### View .rupt file"
   ]
  },
  {
   "cell_type": "code",
   "execution_count": 7,
   "metadata": {},
   "outputs": [
    {
     "name": "stdout",
     "output_type": "stream",
     "text": [
      "# No,lon,lat,z(km),strike,dip,rise,dura,ss-slip(m),ds-slip(m),ss_len(m),ds_len(m),rupt_time(s),rigidity(Pa)\r\n",
      "1\t 99.933000\t -4.115000\t  3.9880\t 324.00\t   7.50\t 0.0\t 0.00\t 0.00\t 0.00\t  14250.00\t  15000.00\t 0.00\t1.934300e+10\r\n",
      "2\t100.041000\t -4.037000\t  5.9460\t 324.00\t   7.50\t 0.0\t 3.67\t 0.16\t 1.26\t  14250.00\t  15000.00\t59.59\t3.112616e+10\r\n",
      "3\t100.150000\t -3.958000\t  7.9040\t 324.00\t   7.50\t 0.0\t 7.07\t-0.68\t 4.18\t  14250.00\t  15000.00\t48.67\t3.112616e+10\r\n",
      "4\t100.258000\t -3.880000\t  9.8620\t 324.00\t   7.50\t 0.0\t 8.75\t 0.47\t 4.28\t  14250.00\t  15000.00\t49.51\t3.112616e+10\r\n",
      "5\t100.366000\t -3.801000\t 11.8200\t 324.00\t   7.50\t 0.0\t 3.72\t-0.10\t 1.51\t  14250.00\t  15000.00\t60.67\t3.307500e+10\r\n",
      "6\t100.475000\t -3.722000\t 13.7780\t 324.00\t   7.50\t 0.0\t 5.01\t-0.68\t 4.44\t  14250.00\t  15000.00\t53.81\t4.193532e+10\r\n",
      "7\t 99.857000\t -4.012000\t  3.9880\t 324.00\t   7.50\t 0.0\t 0.00\t 0.00\t 0.00\t  14250.00\t  15000.00\t 0.00\t1.934300e+10\r\n",
      "8\t 99.966000\t -3.933000\t  5.9460\t 324.00\t   7.50\t 0.0\t 8.01\t-0.34\t 3.60\t  14250.00\t  15000.00\t42.68\t3.112616e+10\r\n",
      "9\t100.074000\t -3.855000\t  7.9040\t 324.00\t   7.50\t 0.0\t 9.83\t-0.22\t 9.25\t  14250.00\t  15000.00\t33.77\t3.112616e+10\r\n"
     ]
    }
   ],
   "source": [
    "ruptpath=os.getcwd() + '/' + 'demo' + '/output/ruptures/mentawai.000000.rupt'\n",
    "!head $ruptpath"
   ]
  },
  {
   "cell_type": "markdown",
   "metadata": {},
   "source": [
    "### Quick view of the rupture models: Coarse Fault Model"
   ]
  },
  {
   "cell_type": "code",
   "execution_count": 10,
   "metadata": {},
   "outputs": [
    {
     "name": "stderr",
     "output_type": "stream",
     "text": [
      "/Users/tnye/code/MudPy/src/python/mudpy/view.py:2817: RuntimeWarning: invalid value encountered in true_divide\n",
      "  ds=ds/((ds**2+ss**2)**0.5)\n",
      "findfont: Font family ['normal'] not found. Falling back to DejaVu Sans.\n",
      "findfont: Font family ['normal'] not found. Falling back to DejaVu Sans.\n"
     ]
    },
    {
     "data": {
      "image/png": "[encoded data removed]",
      "text/plain": [
       "<Figure size 432x288 with 2 Axes>"
      ]
     },
     "metadata": {
      "needs_background": "light"
     },
     "output_type": "display_data"
    }
   ],
   "source": [
    "%matplotlib inline\n",
    "#%matplotlib notebook\n",
    "view.quick_model(f'/Users/tnye/SSW/FakeQuakes_tutorial/demo/output/ruptures/mentawai.000000.rupt')\n",
    "#view.quick_model(f'{home}demo/output/ruptures/run_name.000001.rupt')"
   ]
  },
  {
   "cell_type": "markdown",
   "metadata": {},
   "source": [
    "### Quick view of example rupture models: Fine Fault Model"
   ]
  },
  {
   "cell_type": "code",
   "execution_count": null,
   "metadata": {},
   "outputs": [],
   "source": [
    "%matplotlib inline\n",
    "#%matplotlib notebook\n",
    "view.quick_model(f'{os.getcwd()}/figures/mentawai_fine.000000.rupt')\n",
    "view.quick_model(f'{os.getcwd()}/figures/mentawai_fine.000001.rupt')"
   ]
  },
  {
   "cell_type": "markdown",
   "metadata": {},
   "source": [
    "<a id='LF'></a>\n",
    "<hr style=\"border:1px solid gray\"> </hr>"
   ]
  },
  {
   "cell_type": "markdown",
   "metadata": {},
   "source": [
    "# <center>Generate Low Frequency Displacement Waveforms</center>"
   ]
  },
  {
   "cell_type": "markdown",
   "metadata": {},
   "source": [
    "<a id='GFs'></a>\n",
    "***\n",
    "## <center>Compute Green's Functions</center>\n",
    "This step uses the __runslip.inversion__ function to generate the Green's Functions, which are seismograms for each subfault-station pair...one step closer to getting the final waveforms!  This uses the frequency-waveform (fk) integration code from Zhu and Rivera (2002)."
   ]
  },
  {
   "cell_type": "code",
   "execution_count": null,
   "metadata": {},
   "outputs": [],
   "source": [
    "if project_name != 'demo':\n",
    "    ncpus=4\n",
    "    start = time.time()     \n",
    "    runslip.inversionGFs(home,project_name,GF_list,None,fault_name,model_name,\n",
    "            dt,None,NFFT,None,make_GFs,make_synthetics,dk,pmin,\n",
    "            pmax,kmax,0,time_epi,hot_start,ncpus,custom_stf,impulse=True) \n",
    "    end = time.time()\n",
    "    time_elaps = end - start\n",
    "    if time_elaps < 60:\n",
    "        print(f'Duration: {round(time_elaps)} seconds')\n",
    "    else:\n",
    "        print(f'Duration: {round(time_elaps/60)} minutes')"
   ]
  },
  {
   "cell_type": "markdown",
   "metadata": {},
   "source": [
    "### Green's Functions (GFs)\n",
    "Green's functions are what the seismogram would look like for 1 meter of displacement, assuming a delta source.   \n",
    "<br> To calculate the GFs, we assume a layered half-space model and use a propagator matrix, which is what we use to go from stress changes along the fault to displacement at the surface.\n",
    "<img src=\"./figures/half_space.png\"/>\n",
    "<br>__Figure 2.__ Half-space model from Zhu and Rivera, 2002.\n",
    "\n",
    "### Synthetics\n",
    "The GFs provide the static displacement, but we need to know how displcement evolved over time.  To obtain this, we convolve the GFs (*G*(*t*)) with a STF (*X*(*t*)) $\\eqref{eq:synthetic}$.  FakeQuakes refers to these products as synthetics (*S*(*t*)).\n",
    " \n",
    "\\begin{equation*}\n",
    "S(t) = X(t)\\circledast G(t)\n",
    "\\label{eq:synthetic} \\tag{9}\n",
    "\\end{equation*}"
   ]
  },
  {
   "cell_type": "markdown",
   "metadata": {},
   "source": [
    "<img src=\"./figures/subfault_seismograms.png\" style=\"width:400px;height:250px\"/>\n",
    "\n",
    "<br>__Figure 3.__ Example subfault seismograms for one station (blue triangle)."
   ]
  },
  {
   "cell_type": "markdown",
   "metadata": {},
   "source": [
    "<a id='lf_waveforms'></a>\n",
    "***\n",
    "## <center>Make Low Frequency Waveforms</center>"
   ]
  },
  {
   "cell_type": "markdown",
   "metadata": {},
   "source": [
    "We can use the __waveforms_fakequakes__ function to get the displacement waveforms at the different stations in our stations file using the synthetics we obtained in the last step.  "
   ]
  },
  {
   "cell_type": "code",
   "execution_count": null,
   "metadata": {},
   "outputs": [],
   "source": [
    "if project_name != 'demo':\n",
    "    start = time.time()\n",
    "    #Make low frequency waveforms\n",
    "    forward.waveforms_fakequakes(home,project_name,fault_name,rupture_list,GF_list,\n",
    "            model_name,run_name,dt,NFFT,G_from_file,G_name,source_time_function,\n",
    "            stf_falloff_rate,hot_start=hot_start)\n",
    "    end = time.time()\n",
    "    time_elaps = end - start\n",
    "    if time_elaps < 60:\n",
    "        print(f'Duration: {round(time_elaps)} seconds')\n",
    "    else:\n",
    "        print(f'Duration: {round(time_elaps/60)} minutes')"
   ]
  },
  {
   "cell_type": "markdown",
   "metadata": {},
   "source": [
    "The generation of LF waveforms is deterministic, which means it is based off of our understanding of how seismic waves propagate through a media.  This is done using a 1D velocity model and GFs.\n",
    "\n",
    "The GFs assume slip of 1 m, so we have to scale them to match the actual slip on the fault by multiplying each synthetic by the slip on that subfault.  The final waveforms for each station are the sum of the subfault synthetics associated with the station."
   ]
  },
  {
   "cell_type": "markdown",
   "metadata": {},
   "source": [
    "***\n",
    "## Results...Finally!!"
   ]
  },
  {
   "cell_type": "markdown",
   "metadata": {},
   "source": [
    "### Read in one of the displacement waveforms"
   ]
  },
  {
   "cell_type": "code",
   "execution_count": null,
   "metadata": {},
   "outputs": [],
   "source": [
    "st1 = read(f'{home}/{project_name}/output/waveforms/mentawai.000000/PPSI.LYE.sac')\n",
    "tr1 = st1[0]\n",
    "st2 = read(f'{home}/{project_name}/output/waveforms/mentawai.000000/MNSI.LYE.sac')\n",
    "tr2 = st2[0]\n",
    "\n",
    "tr1.plot()\n",
    "tr2.plot()"
   ]
  },
  {
   "cell_type": "markdown",
   "metadata": {},
   "source": [
    "<a id='BB'></a>\n",
    "<hr style=\"border:1px solid gray\"> </hr>"
   ]
  },
  {
   "cell_type": "markdown",
   "metadata": {},
   "source": [
    "# <center>Generate Broadband Acceleration Waveforms</center>"
   ]
  },
  {
   "cell_type": "markdown",
   "metadata": {},
   "source": [
    "<a id='HF'></a>\n",
    "***\n",
    "## <center>Make High Frequency Waveforms</center>\n",
    "We can use the __hf_waveforms__ function to get the high frequency acceleration waveforms at the different stations in our stations file.  Most of this is taken from Graves and Pitarka (2010, 2015)."
   ]
  },
  {
   "cell_type": "code",
   "execution_count": null,
   "metadata": {},
   "outputs": [],
   "source": [
    "if project_name != 'demo':\n",
    "    start = time.time()     \n",
    "    # Make high-frequency waveforms\n",
    "    forward.hf_waveforms(home,project_name,fault_name,rupture_list,GF_list,\n",
    "                    model_name,run_name,dt,NFFT,G_from_file,G_name,rise_time_depths,\n",
    "                    moho_depth_in_km,ncpus,source_time_function=source_time_function,\n",
    "                    duration=duration,stf_falloff_rate=stf_falloff_rate,hf_dt=hf_dt,\n",
    "                    Pwave=Pwave,hot_start=hot_start,stress_parameter=stress_parameter,\n",
    "                    high_stress_depth=high_stress_depth)\n",
    "    end = time.time()\n",
    "    time_elaps = end - start\n",
    "    if time_elaps < 60:\n",
    "        print(f'Duration: {round(time_elaps)} seconds')\n",
    "    else:\n",
    "        print(f'Duration: {round(time_elaps/60)} minutes')"
   ]
  },
  {
   "cell_type": "markdown",
   "metadata": {},
   "source": [
    "The generation of HF waveforms is done stochastically.  This means that there is some randomness to the process, but it is based off of probability distributions.  It would be computationally-expensive to run the HF part determinisitically and would require a much more detailed model of the subsurface.  \n",
    "<br>This step works in the frequency domain to generate the waveforms.  Each subfault contributes an acceleration amplitude spectrum for each station $\\eqref{eq:hf_spectra}$.\n",
    "\n",
    "\\begin{equation*}\n",
    "A_{i}(f) = \\sum\\limits_{j=1,M} C_{ij}S_{i}(f)G_{ij}(f)P(f)\n",
    "\\label{eq:hf_spectra} \\tag{10}\n",
    "\\end{equation*}\n",
    "\n",
    "- C$_{ij}$ is the radiation scale factor\n",
    "- S$_{i}$(f) is the source radiation spectrum for subfault *i*\n",
    "- G$_{ij}$(f) is the path term, which accounts for intrinsic attenuation along the path\n",
    "- P(f) is the high-frequency spectral decay from site effects\n",
    "\n",
    "To add some \"randomness\", the spectra are combined with the random phase of a Gaussian white noise time series.  <br>Then the spectra are Fourier-transformed back into the time domain, giving an acceleration time series for each subfault-station pair. \n",
    "<br>As with the low-frequencies, all of the subfault seismograms for each station are then summed up to produce the final waveforms for each station. "
   ]
  },
  {
   "cell_type": "markdown",
   "metadata": {},
   "source": [
    "### Read in one of the acceleration waveforms"
   ]
  },
  {
   "cell_type": "code",
   "execution_count": null,
   "metadata": {},
   "outputs": [],
   "source": [
    "st1 = read(f'{home}/{project_name}/output/waveforms/mentawai.000000/PPSI.HNE.mpi.sac')\n",
    "tr1 = st1[0]\n",
    "st2 = read(f'{home}/{project_name}/output/waveforms/mentawai.000000/MNSI.HNE.mpi.sac')\n",
    "tr2 = st2[0]\n",
    "\n",
    "tr1.plot()\n",
    "tr2.plot()"
   ]
  },
  {
   "cell_type": "markdown",
   "metadata": {},
   "source": [
    "<a id='match_filt'></a>\n",
    "***\n",
    "## <center>Combine Waveforms</center>\n",
    "We can use the __match_filter__ function to combine the low frequency and high frequency waveforms to get final broadband waveforms for the stations in our station file. "
   ]
  },
  {
   "cell_type": "code",
   "execution_count": null,
   "metadata": {},
   "outputs": [],
   "source": [
    "if project_name != 'demo':\n",
    "    # Combine LF and HF waveforms with match filter                              \n",
    "    forward.match_filter(home,project_name,fault_name,rupture_list,GF_list,zero_phase,order,fcorner)"
   ]
  },
  {
   "cell_type": "markdown",
   "metadata": {},
   "source": [
    "* The LF displacement waveforms are double-differentiated into acceleration waveforms.\n",
    "* The LF waveforms are resampled to have same sampling rate as the HF waveforms.\n",
    "* The LF and HF waveforms are trimmed to have the same length.\n",
    "* The LF waveforms are lowpass filtered and the HF waveforms are highpass filtered.\n",
    "* The LF and HF waveforms are added together to get final broadband waveforms. \n",
    "\n",
    "<img src=\"./figures/match_filter_time.png\"/>\n",
    "\n",
    "<br>__Figure 3.__ Example low frequency and high frequency acceleration waveforms before filtering (left) and after filtering (right).  The final broadband waveforms is a sum of the two filtered waveforms.\n",
    "<img src=\"./figures/match_filter.png\"/>\n",
    "\n",
    "<br>__Figure 4.__ Example low frequency and high frequency acceleration Fourier amplitude spectra before filtering (left) and after filtering (right).  The final broadband waveforms is a sum of the two filtered waveforms."
   ]
  },
  {
   "cell_type": "markdown",
   "metadata": {},
   "source": [
    "### Read in one of the broadband acceleration waveforms"
   ]
  },
  {
   "cell_type": "code",
   "execution_count": null,
   "metadata": {},
   "outputs": [],
   "source": [
    "st1 = read(f'{home}/demo/output/waveforms/mentawai.000000/PPSI.bb.HNE.sac')\n",
    "tr1 = st1[0]\n",
    "st2 = read(f'{home}/demo/output/waveforms/mentawai.000000/MNSI.bb.HNE.sac')\n",
    "tr2 = st2[0]\n",
    "\n",
    "tr1.plot()\n",
    "tr2.plot()"
   ]
  },
  {
   "cell_type": "markdown",
   "metadata": {},
   "source": [
    "<a id='notes'></a>\n",
    "<hr style=\"border:1px solid gray\"> </hr>"
   ]
  },
  {
   "cell_type": "markdown",
   "metadata": {},
   "source": [
    "# <center> Final Notes </center>\n",
    "* All rupture files are stored in __/output/ruptures/__\n",
    "* All waveforms are stored in __/output/waveforms/__\n",
    "    * __.LY*.sac__ files are the low-frequency displacement files\n",
    "    * __.HN*mpi.sac__ files are the high-frequency acceleration files\n",
    "    * __.bb.HN*.sac__ files are the final broadband acceleration waveforms"
   ]
  },
  {
   "cell_type": "markdown",
   "metadata": {},
   "source": [
    "<a id='references'></a>\n",
    "<hr style=\"border:1px solid gray\"> </hr>"
   ]
  },
  {
   "cell_type": "markdown",
   "metadata": {},
   "source": [
    "### References\n",
    "Blaser, L., F. Krüger, M. Ohrnberger, and F. Scherbaum (2010), Scaling relations of earthquake source parameter estimates with special focus on subduction environment, Bull. Seism. Soc. Am., 100, 2914–2926.\n",
    "\n",
    "Graves, R., and A. Pitarka (2015), Refinements to the Graves and Pitarka (2010) broadband ground-motion simulation method, Seismol. Res. Lett., 86(1), 75–80.\n",
    "\n",
    "Graves, R. W., & Pitarka, A. (2010), Broadband Ground-Motion Simulation Using a Hybrid Approach. Bulletin of the Seismological Society of America, 100(5A), 2095-2123. doi:10.1785/0120100057\n",
    "\n",
    "Mai, P. M., and Beroza, G. C. (2002), A spatial random field model to characterize complexity in earthquake slip, J. Geophys. Res., 107(B11), 2308, doi:10.1029/2001JB000588\n",
    "\n",
    "Melgar, D., Leveque, R. J., Dreger, D. S., & Allen, R. M. (2016), Kinematic rupture scenarios and synthetic displacement data: An example application to the Cascadia subduction zone. Journal of Geophysical Research: Solid Earth, 121(9), 6658-6674, doi:10.1002/2016jb013314\n",
    "\n",
    "Yue, H., Lay, T., Rivera, L., Bai, Y., Yamazaki, Y., Cheung, K. F., … Muhari, A. (2014), Rupture process of the 2010 Mw 7.8 Mentawai tsunami earthquake from joint inversion of near-field hr-GPS and teleseismic body wave recordings constrained by tsunami observations. AGU: Journal of Geophysical Research, Solid Earth, 119, 5574–5593, doi:10.1002/2014JB011082\n",
    "\n",
    "Zhu, L., & Rivera, L. A. (2002), A note on the dynamic and static displacements from a point source in multilayered media. Geophysical Journal International, 148(3), 619-627, doi:10.1046/j.1365-246x.2002.01610.x"
   ]
  }
 ],
 "metadata": {
  "kernelspec": {
   "display_name": "Python 3",
   "language": "python",
   "name": "python3"
  },
  "language_info": {
   "codemirror_mode": {
    "name": "ipython",
    "version": 3
   },
   "file_extension": ".py",
   "mimetype": "text/x-python",
   "name": "python",
   "nbconvert_exporter": "python",
   "pygments_lexer": "ipython3",
   "version": "3.7.3"
  }
 },
 "nbformat": 4,
 "nbformat_minor": 4
}
